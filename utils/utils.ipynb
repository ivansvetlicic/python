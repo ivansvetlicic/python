{
  "nbformat": 4,
  "nbformat_minor": 0,
  "metadata": {
    "colab": {
      "name": "utils",
      "provenance": [],
      "collapsed_sections": []
    },
    "kernelspec": {
      "name": "python3",
      "display_name": "Python 3"
    }
  },
  "cells": [
    {
      "cell_type": "code",
      "metadata": {
        "id": "oa3gk2WD957M",
        "colab_type": "code",
        "colab": {}
      },
      "source": [
        "import pandas as pd\n",
        "import numpy as np\n",
        "from sklearn.preprocessing import OneHotEncoder\n",
        "from sklearn.compose import ColumnTransformer\n",
        "from sklearn.preprocessing import Normalizer\n",
        "import re\n",
        "from keras.preprocessing.text import Tokenizer\n",
        "from keras.preprocessing import sequence\n",
        "from sklearn.feature_extraction.text import TfidfVectorizer"
      ],
      "execution_count": null,
      "outputs": []
    },
    {
      "cell_type": "code",
      "metadata": {
        "id": "12TtIMArJElE",
        "colab_type": "code",
        "colab": {}
      },
      "source": [
        "class DataSource:\n",
        "  def __init__(self, name):\n",
        "    #load the data\n",
        "    filepath = \"data/\" + name + \".csv\"\n",
        "    self.raw_src_data_df = pd.read_csv(filepath, encoding='latin-1')\n",
        "  def select_attributes(self, cols):\n",
        "    self.src_data_df = self.raw_src_data_df[cols].copy()\n",
        "    return self.src_data_df"
      ],
      "execution_count": null,
      "outputs": []
    },
    {
      "cell_type": "code",
      "metadata": {
        "id": "L96zipPmJwZ6",
        "colab_type": "code",
        "colab": {}
      },
      "source": [
        "class MLTransformer:\n",
        "  def __init__(self):\n",
        "    pass\n",
        "  def replace_missing_values(self, df):\n",
        "    #replace all string nulls with blanks, all float and int nulls with avg of all values\n",
        "    for col in df.columns:\n",
        "      if df[col].dtype == 'object' or df[col].dtype == 'bool':\n",
        "        df[col].fillna('', inplace=True)\n",
        "      elif df[col].dtype == np.float64 or df[col].dtype == np.int:\n",
        "        df[col].fillna(df[col].mean(), inplace=True)\n",
        "      else:\n",
        "        print(\"Error: unhanded data type:\", df[col].dtype, col)\n",
        "    return df "
      ],
      "execution_count": null,
      "outputs": []
    },
    {
      "cell_type": "code",
      "metadata": {
        "id": "SJ_QaJdFKqHU",
        "colab_type": "code",
        "colab": {}
      },
      "source": [
        "def select_cols(self, df, cols):\n",
        "  self.data_df = df[cols].copy()\n",
        "  return self.data_df"
      ],
      "execution_count": null,
      "outputs": []
    },
    {
      "cell_type": "code",
      "metadata": {
        "id": "EkMFabvwK4uz",
        "colab_type": "code",
        "colab": {}
      },
      "source": [
        "def nominal_to_numerical_OHE(self, df):\n",
        "  #get all non-numerical values\n",
        "  column_names = []\n",
        "  nominal_data = df.select_dtypes(include=['object']).copy()\n",
        "  #get all numerical values\n",
        "  numeric_data = df.selct_dtypes(inlude=['number']).copy()\n",
        "  #one-hot encoding\n",
        "  ohe = OneHotEncoder(handle_unknown='ignore', sparse='False')\n",
        "  encoded_val = ohe.fit_transform(nominal_data)\n",
        "  column_names = np.array(list(numeric_data))\n",
        "  feature_names = ohe.get_feature_names()\n",
        "  column_names = np.concatenate((column_names, feature_names))\n",
        "  ohe_encoder = ohe\n",
        "  ohe_dataset = np.concatenate ((numeric_data, encoded_val), 1)\n",
        "  return ohe_dataset, column_names"
      ],
      "execution_count": null,
      "outputs": []
    },
    {
      "cell_type": "code",
      "metadata": {
        "id": "X3-VkgxSM7Gf",
        "colab_type": "code",
        "colab": {}
      },
      "source": [
        "def nominal_to_numerical_CF(self, df):\n",
        "  #get all non-numeric values\n",
        "  self.nominal_data = df.select_dtypes(include=['object']).copy()\n",
        "  #one hot encoding\n",
        "  columnTransformer = ColumnTransformer([('encoder', OneHotEncoder(handle_unknown='ignore'), [2,4])], remainder='passthrough')\n",
        "  self.cf_dataset = columnTransformer.fit_transform(nominal_data)\n",
        "  return self.cf_dataset"
      ],
      "execution_count": null,
      "outputs": []
    },
    {
      "cell_type": "code",
      "metadata": {
        "id": "0xdy_JIRNxri",
        "colab_type": "code",
        "colab": {}
      },
      "source": [
        "def normalize_data(self, df):\n",
        "  scaler = Normalizer()\n",
        "  transofrmer = scaler.fit(df)\n",
        "  scaled_data = transformer.transform(df)\n",
        "  self.transformer = transformer\n",
        "  return scaled_data"
      ],
      "execution_count": null,
      "outputs": []
    },
    {
      "cell_type": "code",
      "metadata": {
        "id": "n6mzMxEIOJuz",
        "colab_type": "code",
        "colab": {}
      },
      "source": [
        "def transform_OHE(self, df):\n",
        "  #get all non-numeric values\n",
        "  self.nominal_data = df.select_dtypes(include=['object']).copy()\n",
        "  #get all numneric values\n",
        "  self.numeric_data = df.select_dtypes(include=['number']).copy()\n",
        "  #one hot encoding, use the existing model that was used for training\n",
        "  encoded_val = self.ohe_encoder.transform(self.nominal_data)\n",
        "  self.ohe_dataset = np.concatenate((self.numeric_data, encoded_val), 1)\n",
        "  return self.ohe_dataset"
      ],
      "execution_count": null,
      "outputs": []
    },
    {
      "cell_type": "code",
      "metadata": {
        "id": "KrOwofy7O0jO",
        "colab_type": "code",
        "colab": {}
      },
      "source": [
        "def to_lowercase(self, df):\n",
        "  src_data_df2 = df.copy()\n",
        "  for col in src_data_df2.select_dtypes(include=['object']).columns.values:\n",
        "    src_data_df2[col] = src_data_df2[col].str.lower()\n",
        "    print(\"Converting to lowercase column: \", col)\n",
        "  return src_data_df2"
      ],
      "execution_count": null,
      "outputs": []
    },
    {
      "cell_type": "code",
      "metadata": {
        "id": "HLZY4A0hPe5j",
        "colab_type": "code",
        "colab": {}
      },
      "source": [
        ""
      ],
      "execution_count": null,
      "outputs": []
    }
  ]
}