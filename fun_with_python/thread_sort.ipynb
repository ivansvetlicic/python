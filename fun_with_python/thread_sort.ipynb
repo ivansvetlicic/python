{
  "nbformat": 4,
  "nbformat_minor": 0,
  "metadata": {
    "colab": {
      "name": "thread_sort",
      "provenance": [],
      "collapsed_sections": []
    },
    "kernelspec": {
      "name": "python3",
      "display_name": "Python 3"
    }
  },
  "cells": [
    {
      "cell_type": "code",
      "metadata": {
        "id": "WS9-PwQMJ6Ql",
        "colab_type": "code",
        "colab": {}
      },
      "source": [
        "#this code will execute a 'silly sort'\n",
        "#'silly sort' of a list of length n of integers greater than 0 is accomplished by starting n threads that will each sleep the number of seconds corresponding to the integer value \n",
        "#for example: given a list [3,1,5,2], 'silly sort' should produce [1,2,3,5]\n",
        "#outline:\n",
        "#take each element of the collection (e.g. a list) and create a thread with sleep (collection_item)\n",
        "#store the end result into a new (sorted) collection\n",
        "#run test to check if the order is done correctly"
      ],
      "execution_count": null,
      "outputs": []
    },
    {
      "cell_type": "code",
      "metadata": {
        "id": "sKMLpyWMWvgp",
        "colab_type": "code",
        "colab": {
          "base_uri": "https://localhost:8080/",
          "height": 34
        },
        "outputId": "eab5c2e5-4177-4308-fa30-6605a1669a1a"
      },
      "source": [
        "import numpy as np\n",
        "#create a list of random integers greater than zero\n",
        "#we will only pick numbers between 1 and 10, to avoid having to wait for too long\n",
        "sort_lst = np.random.randint(1, 10, size=10)\n",
        "print(\"Random list generated:\", sort_lst)"
      ],
      "execution_count": null,
      "outputs": [
        {
          "output_type": "stream",
          "text": [
            "Random list generated: [8 6 6 5 7 7 9 5 3 2]\n"
          ],
          "name": "stdout"
        }
      ]
    },
    {
      "cell_type": "code",
      "metadata": {
        "id": "o1tNES6jbzja",
        "colab_type": "code",
        "colab": {}
      },
      "source": [
        "#should always be true\n",
        "for elem in sort_lst:\n",
        "  if elem < 0:\n",
        "    print(\"element must be positive integer\")"
      ],
      "execution_count": null,
      "outputs": []
    },
    {
      "cell_type": "code",
      "metadata": {
        "id": "PQp6BjgcKWHu",
        "colab_type": "code",
        "colab": {
          "base_uri": "https://localhost:8080/",
          "height": 386
        },
        "outputId": "c965f1bd-8a1a-4bcc-c42f-533cda2ef0fc"
      },
      "source": [
        "import threading\n",
        "import time\n",
        "\n",
        "#exitFlag = 0\n",
        "sorted_lst = []\n",
        "class myThread (threading.Thread):\n",
        "   def __init__(self, index, element):\n",
        "      threading.Thread.__init__(self)\n",
        "      self.element = element\n",
        "      self.index = index\n",
        "   def run(self):\n",
        "      print (\"Starting index \" + str(self.index))\n",
        "      #print_time(self.name, self.counter)\n",
        "      delay = self.element\n",
        "      time.sleep(delay)\n",
        "      sorted_lst.append(self.element)\n",
        "      print (\"Exiting index \" + str(self.index))\n",
        "\n",
        "def print_time(threadName, delay):\n",
        "   while counter:\n",
        "      if exitFlag:\n",
        "         threadName.exit()\n",
        "      time.sleep(delay)\n",
        "      print (\"%s: %s\" % (threadName, time.ctime(time.time())))\n",
        "      counter -= 1\n",
        "\n",
        "# Create new threads\n",
        "thread_lst = []\n",
        "index = 0\n",
        "for element in sort_lst:\n",
        "  my_thread = myThread(index, element)\n",
        "  index += 1\n",
        "  thread_lst.append(my_thread)\n",
        "\n",
        "# Start new Threads\n",
        "for element in thread_lst:\n",
        "  element.start()\n",
        "for element in thread_lst:  \n",
        "  element.join()\n",
        "\n",
        "print (\"Exiting Main Thread\")\n",
        "print (\"Sorted list: \", sorted_lst)"
      ],
      "execution_count": null,
      "outputs": [
        {
          "output_type": "stream",
          "text": [
            "Starting index 0\n",
            "Starting index 1\n",
            "Starting index 2\n",
            "Starting index 3\n",
            "Starting index 4\n",
            "Starting index 5Starting index 6\n",
            "Starting index 7\n",
            "\n",
            "Starting index 8Starting index 9\n",
            "\n",
            "Exiting index 9\n",
            "Exiting index 8\n",
            "Exiting index 3\n",
            "Exiting index 7\n",
            "Exiting index 1Exiting index 2\n",
            "\n",
            "Exiting index 4\n",
            "Exiting index 5\n",
            "Exiting index 0\n",
            "Exiting index 6\n",
            "Exiting Main Thread\n",
            "Sorted list:  [2, 3, 5, 5, 6, 6, 7, 7, 8, 9]\n"
          ],
          "name": "stdout"
        }
      ]
    },
    {
      "cell_type": "code",
      "metadata": {
        "id": "EPgt4iwoNdOI",
        "colab_type": "code",
        "colab": {}
      },
      "source": [
        "#test\n",
        "test_lst = sorted(sort_lst)"
      ],
      "execution_count": null,
      "outputs": []
    },
    {
      "cell_type": "code",
      "metadata": {
        "id": "QrnPqIDNa-PT",
        "colab_type": "code",
        "colab": {
          "base_uri": "https://localhost:8080/",
          "height": 34
        },
        "outputId": "be96b28c-5ec7-4a22-9f21-1baa2d4c34b7"
      },
      "source": [
        "test_lst"
      ],
      "execution_count": null,
      "outputs": [
        {
          "output_type": "execute_result",
          "data": {
            "text/plain": [
              "[2, 3, 5, 5, 6, 6, 7, 7, 8, 9]"
            ]
          },
          "metadata": {
            "tags": []
          },
          "execution_count": 19
        }
      ]
    },
    {
      "cell_type": "code",
      "metadata": {
        "id": "vGggdpljbB5b",
        "colab_type": "code",
        "colab": {}
      },
      "source": [
        "#check if the sort was a success\n",
        "assert test_lst == sorted_lst, \"Error: not matching\""
      ],
      "execution_count": null,
      "outputs": []
    }
  ]
}